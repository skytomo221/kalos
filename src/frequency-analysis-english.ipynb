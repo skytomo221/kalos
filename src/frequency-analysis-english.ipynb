{
 "cells": [
  {
   "cell_type": "markdown",
   "source": [
    "# 英語の頻度分析"
   ],
   "metadata": {}
  },
  {
   "cell_type": "code",
   "execution_count": 4,
   "source": [
    "using PyCall"
   ],
   "outputs": [],
   "metadata": {}
  },
  {
   "cell_type": "markdown",
   "source": [
    "## データの読み込み\n",
    "\n",
    "文字数が近い\n",
    "[Alice's Adventures in Wonderland by Lewis Carroll](https://www.gutenberg.org/ebooks/11)\n",
    "を使用します。\n"
   ],
   "metadata": {}
  },
  {
   "cell_type": "code",
   "execution_count": 5,
   "source": [
    "open(\"Alice's Adventures in Wonderland by Lewis Carroll.txt\") do f\n",
    "    global all_text = read(f, String)\n",
    "end"
   ],
   "outputs": [
    {
     "output_type": "error",
     "ename": "LoadError",
     "evalue": "UndefVarError: all_text not defined",
     "traceback": [
      "UndefVarError: all_text not defined",
      "",
      "Stacktrace:",
      " [1] top-level scope",
      "   @ :0",
      " [2] eval",
      "   @ ./boot.jl:360 [inlined]",
      " [3] include_string(mapexpr::typeof(REPL.softscope), mod::Module, code::String, filename::String)",
      "   @ Base ./loading.jl:1094"
     ]
    }
   ],
   "metadata": {}
  },
  {
   "cell_type": "markdown",
   "source": [
    "## 前処理\n",
    "\n",
    "全てのツイートの文章から以下の項目について処理を行います．\n",
    "\n",
    "1. 大文字を小文字に変換\n",
    "2. Tweet IDの削除\n",
    "3. 改行文字の削除\n",
    "4. 約物などの記号の削除"
   ],
   "metadata": {}
  },
  {
   "cell_type": "code",
   "execution_count": null,
   "source": [
    "text = replace(lowercase.(all_text), r\"@[0-9A-Z_a-z]+\\W?|[\\r\\n!-@\\[-`{-~“”]\" => s\"\")"
   ],
   "outputs": [
    {
     "output_type": "error",
     "ename": "LoadError",
     "evalue": "UndefVarError: all_text not defined",
     "traceback": [
      "UndefVarError: all_text not defined",
      "",
      "Stacktrace:",
      " [1] top-level scope",
      "   @ In[3]:1",
      " [2] eval",
      "   @ ./boot.jl:360 [inlined]",
      " [3] include_string(mapexpr::typeof(REPL.softscope), mod::Module, code::String, filename::String)",
      "   @ Base ./loading.jl:1094"
     ]
    }
   ],
   "metadata": {}
  },
  {
   "cell_type": "markdown",
   "source": [
    "## 文字数"
   ],
   "metadata": {}
  },
  {
   "cell_type": "code",
   "execution_count": null,
   "source": [
    "length(text)"
   ],
   "outputs": [],
   "metadata": {}
  },
  {
   "cell_type": "markdown",
   "source": [
    "## 単語のリスト"
   ],
   "metadata": {}
  },
  {
   "cell_type": "code",
   "execution_count": null,
   "source": [
    "words = split(text)"
   ],
   "outputs": [],
   "metadata": {}
  },
  {
   "cell_type": "markdown",
   "source": [
    "## 文字のリスト"
   ],
   "metadata": {}
  },
  {
   "cell_type": "code",
   "execution_count": null,
   "source": [
    "letters = split(text, \"\")"
   ],
   "outputs": [],
   "metadata": {}
  },
  {
   "cell_type": "markdown",
   "source": [
    "## 単語ごとにおける頻度分析"
   ],
   "metadata": {}
  },
  {
   "cell_type": "code",
   "execution_count": null,
   "source": [
    "using StatsBase\n",
    "word_counter = StatsBase.countmap(words)"
   ],
   "outputs": [],
   "metadata": {}
  },
  {
   "cell_type": "code",
   "execution_count": null,
   "source": [
    "using StatsBase\n",
    "sorted_word_counter = sort(collect(word_counter), by=x->x[2], rev=true)"
   ],
   "outputs": [],
   "metadata": {}
  },
  {
   "cell_type": "code",
   "execution_count": null,
   "source": [
    "using Plots\n",
    "plot(map(x -> x[2], sorted_word_counter), yaxis=:log, label=\"word frequency\")"
   ],
   "outputs": [],
   "metadata": {}
  },
  {
   "cell_type": "markdown",
   "source": [
    "## 文字ごとにおける頻度分析"
   ],
   "metadata": {}
  },
  {
   "cell_type": "code",
   "execution_count": null,
   "source": [
    "using StatsBase\n",
    "letter_counter = StatsBase.countmap(letters)"
   ],
   "outputs": [],
   "metadata": {}
  },
  {
   "cell_type": "code",
   "execution_count": null,
   "source": [
    "using StatsBase\n",
    "sorted_letter_counter = sort(collect(letter_counter), by=x->x[2], rev=true)"
   ],
   "outputs": [],
   "metadata": {}
  },
  {
   "cell_type": "code",
   "execution_count": null,
   "source": [
    "using Plots\n",
    "plot(map(x -> x[2], sorted_letter_counter), st=:bar, label=\"letter frequency\")"
   ],
   "outputs": [],
   "metadata": {}
  },
  {
   "cell_type": "code",
   "execution_count": null,
   "source": [
    "println(sorted_letter_counter)"
   ],
   "outputs": [],
   "metadata": {}
  },
  {
   "cell_type": "markdown",
   "source": [
    "## 単語の長さと単語数の関係"
   ],
   "metadata": {}
  },
  {
   "cell_type": "code",
   "execution_count": null,
   "source": [
    "using Plots, StatsBase\n",
    "word_length_counter = StatsBase.countmap(map(x -> length(x[1]), sorted_word_counter))\n",
    "sorted_word_length_counter = sort(collect(word_length_counter))\n",
    "plot(map(x -> x[2], sorted_word_length_counter), st=:bar, xlabel=\"length\", ylabel=\"number of words\", label=\"words\")"
   ],
   "outputs": [],
   "metadata": {}
  },
  {
   "cell_type": "code",
   "execution_count": null,
   "source": [
    "sorted_word_length_counter"
   ],
   "outputs": [],
   "metadata": {}
  }
 ],
 "metadata": {
  "orig_nbformat": 4,
  "language_info": {
   "file_extension": ".jl",
   "name": "julia",
   "mimetype": "application/julia",
   "version": "1.6.1"
  },
  "kernelspec": {
   "name": "python395jvsc74a57bd098b0a9b7b4eaaa670588a142fd0a9b87eaafe866f1db4228be72b4211d12040f",
   "display_name": "Julia 1.6.1",
   "language": "julia"
  }
 },
 "nbformat": 4,
 "nbformat_minor": 2
}