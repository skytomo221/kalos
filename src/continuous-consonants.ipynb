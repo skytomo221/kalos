{
 "cells": [
  {
   "cell_type": "markdown",
   "source": [
    "# 連続子音に関する英語とカロス語の比較"
   ],
   "metadata": {}
  },
  {
   "cell_type": "code",
   "execution_count": 1,
   "source": [
    "import csv\n",
    "import numpy as np\n",
    "import matplotlib\n",
    "import matplotlib.pyplot as plt"
   ],
   "outputs": [],
   "metadata": {}
  },
  {
   "cell_type": "code",
   "execution_count": 2,
   "source": [
    "consonants = 'bcdfghjklmnpqrstvwxyz'"
   ],
   "outputs": [],
   "metadata": {}
  },
  {
   "cell_type": "code",
   "execution_count": 3,
   "source": [
    "n = len(consonants)"
   ],
   "outputs": [],
   "metadata": {}
  },
  {
   "cell_type": "code",
   "execution_count": 4,
   "source": [
    "def cluster_array(text):\n",
    "    arr = np.zeros((n, n))\n",
    "    text = text.lower()\n",
    "    for x, y in zip(text, text[1:]):\n",
    "        ix = consonants.find(x)\n",
    "        iy = consonants.find(y)\n",
    "        if ix > -1 and iy > -1:\n",
    "            arr[ix][iy] += 1\n",
    "    return arr"
   ],
   "outputs": [],
   "metadata": {}
  },
  {
   "cell_type": "code",
   "execution_count": 5,
   "source": [
    "with open('tweets.csv') as csvfile:\n",
    "    reader = csv.reader(csvfile)\n",
    "    next(reader)\n",
    "    kalos = '\\n'.join(row[1] for row in reader)"
   ],
   "outputs": [],
   "metadata": {}
  },
  {
   "cell_type": "markdown",
   "source": [
    "## 英語における連続子音の傾向\n",
    "\n",
    "### 英語における連続子音の頻出度\n",
    "\n",
    "英語では連続子音のペア`th`が顕著に出現しています。"
   ],
   "metadata": {}
  },
  {
   "cell_type": "code",
   "execution_count": 6,
   "source": [
    "arr = cluster_array(open('Alice\\'s Adventures in Wonderland by Lewis Carroll.txt').read())\n",
    "\n",
    "fig, ax = plt.subplots()\n",
    "im = ax.imshow(arr)\n",
    "ax.set_xticks(np.arange(n))\n",
    "ax.set_yticks(np.arange(n))\n",
    "ax.set_xticklabels(list(consonants))\n",
    "ax.set_yticklabels(list(consonants))\n",
    "plt.show()"
   ],
   "outputs": [
    {
     "output_type": "display_data",
     "data": {
      "text/plain": [
       "<Figure size 432x288 with 1 Axes>"
      ],
      "image/png": "[encoded data removed]"
     },
     "metadata": {
      "needs_background": "light"
     }
    }
   ],
   "metadata": {}
  },
  {
   "cell_type": "markdown",
   "source": [
    "### 英語における連続子音の有無"
   ],
   "metadata": {}
  },
  {
   "cell_type": "code",
   "execution_count": 7,
   "source": [
    "# turn into yes/no matrix:\n",
    "arr = arr > 0\n",
    "\n",
    "fig, ax = plt.subplots()\n",
    "im = ax.imshow(arr)\n",
    "ax.set_xticks(np.arange(n))\n",
    "ax.set_yticks(np.arange(n))\n",
    "ax.set_xticklabels(list(consonants))\n",
    "ax.set_yticklabels(list(consonants))\n",
    "plt.show()"
   ],
   "outputs": [
    {
     "output_type": "display_data",
     "data": {
      "text/plain": [
       "<Figure size 432x288 with 1 Axes>"
      ],
      "image/png": "[encoded data removed]"
     },
     "metadata": {
      "needs_background": "light"
     }
    }
   ],
   "metadata": {}
  },
  {
   "cell_type": "markdown",
   "source": [
    "## カロス語における連続子音の傾向\n",
    "\n",
    "### カロス語における連続子音の頻出度\n",
    "\n",
    "英語と違ってまんべんなく連続子音が存在します。"
   ],
   "metadata": {}
  },
  {
   "cell_type": "code",
   "execution_count": 8,
   "source": [
    "arr = cluster_array(kalos)\n",
    "\n",
    "fig, ax = plt.subplots()\n",
    "im = ax.imshow(arr)\n",
    "ax.set_xticks(np.arange(n))\n",
    "ax.set_yticks(np.arange(n))\n",
    "ax.set_xticklabels(list(consonants))\n",
    "ax.set_yticklabels(list(consonants))\n",
    "plt.show()"
   ],
   "outputs": [
    {
     "output_type": "display_data",
     "data": {
      "text/plain": [
       "<Figure size 432x288 with 1 Axes>"
      ],
      "image/png": "[encoded data removed]"
     },
     "metadata": {
      "needs_background": "light"
     }
    }
   ],
   "metadata": {}
  },
  {
   "cell_type": "markdown",
   "source": [
    "### カロス語における連続子音の有無\n",
    "\n",
    "カロス語は全ての子音の組み合わせが存在します。"
   ],
   "metadata": {}
  },
  {
   "cell_type": "code",
   "execution_count": 9,
   "source": [
    "# turn into yes/no matrix:\n",
    "arr = arr > 0\n",
    "\n",
    "fig, ax = plt.subplots()\n",
    "im = ax.imshow(arr)\n",
    "ax.set_xticks(np.arange(n))\n",
    "ax.set_yticks(np.arange(n))\n",
    "ax.set_xticklabels(list(consonants))\n",
    "ax.set_yticklabels(list(consonants))\n",
    "plt.show()"
   ],
   "outputs": [
    {
     "output_type": "display_data",
     "data": {
      "text/plain": [
       "<Figure size 432x288 with 1 Axes>"
      ],
      "image/png": "[encoded data removed]"
     },
     "metadata": {
      "needs_background": "light"
     }
    }
   ],
   "metadata": {}
  }
 ],
 "metadata": {
  "orig_nbformat": 4,
  "language_info": {
   "name": "python",
   "version": "3.9.5",
   "mimetype": "text/x-python",
   "codemirror_mode": {
    "name": "ipython",
    "version": 3
   },
   "pygments_lexer": "ipython3",
   "nbconvert_exporter": "python",
   "file_extension": ".py"
  },
  "kernelspec": {
   "name": "python3",
   "display_name": "Python 3.9.5 64-bit ('base': conda)"
  },
  "interpreter": {
   "hash": "98b0a9b7b4eaaa670588a142fd0a9b87eaafe866f1db4228be72b4211d12040f"
  }
 },
 "nbformat": 4,
 "nbformat_minor": 2
}